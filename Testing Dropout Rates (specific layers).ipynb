{
 "cells": [
  {
   "cell_type": "markdown",
   "metadata": {},
   "source": [
    "# Testing the effect of *Dropout Rates* with Different Layers\n",
    "\n",
    "*This notebook uses the **Dog or Cat** data set available [here](http://files.fast.ai/data/dogscats.zip)*"
   ]
  },
  {
   "cell_type": "code",
   "execution_count": 2,
   "metadata": {},
   "outputs": [],
   "source": [
    "# Put these at the top of every notebook, to get automatic reloading and inline plotting\n",
    "%reload_ext autoreload\n",
    "%autoreload 2\n",
    "%matplotlib inline"
   ]
  },
  {
   "cell_type": "code",
   "execution_count": 13,
   "metadata": {},
   "outputs": [],
   "source": [
    "# This file contains all the main external libs we'll use\n",
    "from fastai.imports import *\n",
    "\n",
    "from fastai.transforms import *\n",
    "from fastai.conv_learner import *\n",
    "from fastai.model import *\n",
    "from fastai.dataset import *\n",
    "from fastai.sgdr import *\n",
    "from fastai.plots import *\n",
    "\n",
    "# Using the same data set as Deep Learning Part 1 - lesson 1\n",
    "PATH = \"data/dogscats/\"\n",
    "# Select an image model\n",
    "arch=resnet50\n",
    "# Set to the number of CPU Cores you have\n",
    "workers=8\n",
    "# this is an array we will iterate through to test each one\n",
    "dropouts = [0.0, 0.1, 0.2, 0.3, 0.4, 0.5, 0.6, 0.7, 0.8, 0.9]\n",
    "bestdrop = 0.2 # established in previous notebook so it will be our static dropout rate\n",
    "# these variables are used for capturing results\n",
    "los1 = []\n",
    "acc1 = []\n",
    "los2 = []\n",
    "acc2 = []"
   ]
  },
  {
   "cell_type": "code",
   "execution_count": 14,
   "metadata": {},
   "outputs": [],
   "source": [
    "sz=64 # unchanged\n",
    "bs=512 # batch size\n",
    "learnrate = 1e-1 #0.1"
   ]
  },
  {
   "cell_type": "code",
   "execution_count": 15,
   "metadata": {},
   "outputs": [],
   "source": [
    "tfms = tfms_from_model(arch, sz)\n",
    "data = ImageClassifierData.from_paths(PATH, tfms=tfms, bs=bs, num_workers=workers)"
   ]
  },
  {
   "cell_type": "markdown",
   "metadata": {},
   "source": [
    "## Dropout Layers in Model"
   ]
  },
  {
   "cell_type": "code",
   "execution_count": 16,
   "metadata": {},
   "outputs": [
    {
     "data": {
      "text/plain": [
       "Sequential(\n",
       "  (0): Conv2d(3, 64, kernel_size=(7, 7), stride=(2, 2), padding=(3, 3), bias=False)\n",
       "  (1): BatchNorm2d(64, eps=1e-05, momentum=0.1, affine=True)\n",
       "  (2): ReLU(inplace)\n",
       "  (3): MaxPool2d(kernel_size=(3, 3), stride=(2, 2), padding=(1, 1), dilation=(1, 1), ceil_mode=False)\n",
       "  (4): Sequential(\n",
       "    (0): Bottleneck(\n",
       "      (conv1): Conv2d(64, 64, kernel_size=(1, 1), stride=(1, 1), bias=False)\n",
       "      (bn1): BatchNorm2d(64, eps=1e-05, momentum=0.1, affine=True)\n",
       "      (conv2): Conv2d(64, 64, kernel_size=(3, 3), stride=(1, 1), padding=(1, 1), bias=False)\n",
       "      (bn2): BatchNorm2d(64, eps=1e-05, momentum=0.1, affine=True)\n",
       "      (conv3): Conv2d(64, 256, kernel_size=(1, 1), stride=(1, 1), bias=False)\n",
       "      (bn3): BatchNorm2d(256, eps=1e-05, momentum=0.1, affine=True)\n",
       "      (relu): ReLU(inplace)\n",
       "      (downsample): Sequential(\n",
       "        (0): Conv2d(64, 256, kernel_size=(1, 1), stride=(1, 1), bias=False)\n",
       "        (1): BatchNorm2d(256, eps=1e-05, momentum=0.1, affine=True)\n",
       "      )\n",
       "    )\n",
       "    (1): Bottleneck(\n",
       "      (conv1): Conv2d(256, 64, kernel_size=(1, 1), stride=(1, 1), bias=False)\n",
       "      (bn1): BatchNorm2d(64, eps=1e-05, momentum=0.1, affine=True)\n",
       "      (conv2): Conv2d(64, 64, kernel_size=(3, 3), stride=(1, 1), padding=(1, 1), bias=False)\n",
       "      (bn2): BatchNorm2d(64, eps=1e-05, momentum=0.1, affine=True)\n",
       "      (conv3): Conv2d(64, 256, kernel_size=(1, 1), stride=(1, 1), bias=False)\n",
       "      (bn3): BatchNorm2d(256, eps=1e-05, momentum=0.1, affine=True)\n",
       "      (relu): ReLU(inplace)\n",
       "    )\n",
       "    (2): Bottleneck(\n",
       "      (conv1): Conv2d(256, 64, kernel_size=(1, 1), stride=(1, 1), bias=False)\n",
       "      (bn1): BatchNorm2d(64, eps=1e-05, momentum=0.1, affine=True)\n",
       "      (conv2): Conv2d(64, 64, kernel_size=(3, 3), stride=(1, 1), padding=(1, 1), bias=False)\n",
       "      (bn2): BatchNorm2d(64, eps=1e-05, momentum=0.1, affine=True)\n",
       "      (conv3): Conv2d(64, 256, kernel_size=(1, 1), stride=(1, 1), bias=False)\n",
       "      (bn3): BatchNorm2d(256, eps=1e-05, momentum=0.1, affine=True)\n",
       "      (relu): ReLU(inplace)\n",
       "    )\n",
       "  )\n",
       "  (5): Sequential(\n",
       "    (0): Bottleneck(\n",
       "      (conv1): Conv2d(256, 128, kernel_size=(1, 1), stride=(1, 1), bias=False)\n",
       "      (bn1): BatchNorm2d(128, eps=1e-05, momentum=0.1, affine=True)\n",
       "      (conv2): Conv2d(128, 128, kernel_size=(3, 3), stride=(2, 2), padding=(1, 1), bias=False)\n",
       "      (bn2): BatchNorm2d(128, eps=1e-05, momentum=0.1, affine=True)\n",
       "      (conv3): Conv2d(128, 512, kernel_size=(1, 1), stride=(1, 1), bias=False)\n",
       "      (bn3): BatchNorm2d(512, eps=1e-05, momentum=0.1, affine=True)\n",
       "      (relu): ReLU(inplace)\n",
       "      (downsample): Sequential(\n",
       "        (0): Conv2d(256, 512, kernel_size=(1, 1), stride=(2, 2), bias=False)\n",
       "        (1): BatchNorm2d(512, eps=1e-05, momentum=0.1, affine=True)\n",
       "      )\n",
       "    )\n",
       "    (1): Bottleneck(\n",
       "      (conv1): Conv2d(512, 128, kernel_size=(1, 1), stride=(1, 1), bias=False)\n",
       "      (bn1): BatchNorm2d(128, eps=1e-05, momentum=0.1, affine=True)\n",
       "      (conv2): Conv2d(128, 128, kernel_size=(3, 3), stride=(1, 1), padding=(1, 1), bias=False)\n",
       "      (bn2): BatchNorm2d(128, eps=1e-05, momentum=0.1, affine=True)\n",
       "      (conv3): Conv2d(128, 512, kernel_size=(1, 1), stride=(1, 1), bias=False)\n",
       "      (bn3): BatchNorm2d(512, eps=1e-05, momentum=0.1, affine=True)\n",
       "      (relu): ReLU(inplace)\n",
       "    )\n",
       "    (2): Bottleneck(\n",
       "      (conv1): Conv2d(512, 128, kernel_size=(1, 1), stride=(1, 1), bias=False)\n",
       "      (bn1): BatchNorm2d(128, eps=1e-05, momentum=0.1, affine=True)\n",
       "      (conv2): Conv2d(128, 128, kernel_size=(3, 3), stride=(1, 1), padding=(1, 1), bias=False)\n",
       "      (bn2): BatchNorm2d(128, eps=1e-05, momentum=0.1, affine=True)\n",
       "      (conv3): Conv2d(128, 512, kernel_size=(1, 1), stride=(1, 1), bias=False)\n",
       "      (bn3): BatchNorm2d(512, eps=1e-05, momentum=0.1, affine=True)\n",
       "      (relu): ReLU(inplace)\n",
       "    )\n",
       "    (3): Bottleneck(\n",
       "      (conv1): Conv2d(512, 128, kernel_size=(1, 1), stride=(1, 1), bias=False)\n",
       "      (bn1): BatchNorm2d(128, eps=1e-05, momentum=0.1, affine=True)\n",
       "      (conv2): Conv2d(128, 128, kernel_size=(3, 3), stride=(1, 1), padding=(1, 1), bias=False)\n",
       "      (bn2): BatchNorm2d(128, eps=1e-05, momentum=0.1, affine=True)\n",
       "      (conv3): Conv2d(128, 512, kernel_size=(1, 1), stride=(1, 1), bias=False)\n",
       "      (bn3): BatchNorm2d(512, eps=1e-05, momentum=0.1, affine=True)\n",
       "      (relu): ReLU(inplace)\n",
       "    )\n",
       "  )\n",
       "  (6): Sequential(\n",
       "    (0): Bottleneck(\n",
       "      (conv1): Conv2d(512, 256, kernel_size=(1, 1), stride=(1, 1), bias=False)\n",
       "      (bn1): BatchNorm2d(256, eps=1e-05, momentum=0.1, affine=True)\n",
       "      (conv2): Conv2d(256, 256, kernel_size=(3, 3), stride=(2, 2), padding=(1, 1), bias=False)\n",
       "      (bn2): BatchNorm2d(256, eps=1e-05, momentum=0.1, affine=True)\n",
       "      (conv3): Conv2d(256, 1024, kernel_size=(1, 1), stride=(1, 1), bias=False)\n",
       "      (bn3): BatchNorm2d(1024, eps=1e-05, momentum=0.1, affine=True)\n",
       "      (relu): ReLU(inplace)\n",
       "      (downsample): Sequential(\n",
       "        (0): Conv2d(512, 1024, kernel_size=(1, 1), stride=(2, 2), bias=False)\n",
       "        (1): BatchNorm2d(1024, eps=1e-05, momentum=0.1, affine=True)\n",
       "      )\n",
       "    )\n",
       "    (1): Bottleneck(\n",
       "      (conv1): Conv2d(1024, 256, kernel_size=(1, 1), stride=(1, 1), bias=False)\n",
       "      (bn1): BatchNorm2d(256, eps=1e-05, momentum=0.1, affine=True)\n",
       "      (conv2): Conv2d(256, 256, kernel_size=(3, 3), stride=(1, 1), padding=(1, 1), bias=False)\n",
       "      (bn2): BatchNorm2d(256, eps=1e-05, momentum=0.1, affine=True)\n",
       "      (conv3): Conv2d(256, 1024, kernel_size=(1, 1), stride=(1, 1), bias=False)\n",
       "      (bn3): BatchNorm2d(1024, eps=1e-05, momentum=0.1, affine=True)\n",
       "      (relu): ReLU(inplace)\n",
       "    )\n",
       "    (2): Bottleneck(\n",
       "      (conv1): Conv2d(1024, 256, kernel_size=(1, 1), stride=(1, 1), bias=False)\n",
       "      (bn1): BatchNorm2d(256, eps=1e-05, momentum=0.1, affine=True)\n",
       "      (conv2): Conv2d(256, 256, kernel_size=(3, 3), stride=(1, 1), padding=(1, 1), bias=False)\n",
       "      (bn2): BatchNorm2d(256, eps=1e-05, momentum=0.1, affine=True)\n",
       "      (conv3): Conv2d(256, 1024, kernel_size=(1, 1), stride=(1, 1), bias=False)\n",
       "      (bn3): BatchNorm2d(1024, eps=1e-05, momentum=0.1, affine=True)\n",
       "      (relu): ReLU(inplace)\n",
       "    )\n",
       "    (3): Bottleneck(\n",
       "      (conv1): Conv2d(1024, 256, kernel_size=(1, 1), stride=(1, 1), bias=False)\n",
       "      (bn1): BatchNorm2d(256, eps=1e-05, momentum=0.1, affine=True)\n",
       "      (conv2): Conv2d(256, 256, kernel_size=(3, 3), stride=(1, 1), padding=(1, 1), bias=False)\n",
       "      (bn2): BatchNorm2d(256, eps=1e-05, momentum=0.1, affine=True)\n",
       "      (conv3): Conv2d(256, 1024, kernel_size=(1, 1), stride=(1, 1), bias=False)\n",
       "      (bn3): BatchNorm2d(1024, eps=1e-05, momentum=0.1, affine=True)\n",
       "      (relu): ReLU(inplace)\n",
       "    )\n",
       "    (4): Bottleneck(\n",
       "      (conv1): Conv2d(1024, 256, kernel_size=(1, 1), stride=(1, 1), bias=False)\n",
       "      (bn1): BatchNorm2d(256, eps=1e-05, momentum=0.1, affine=True)\n",
       "      (conv2): Conv2d(256, 256, kernel_size=(3, 3), stride=(1, 1), padding=(1, 1), bias=False)\n",
       "      (bn2): BatchNorm2d(256, eps=1e-05, momentum=0.1, affine=True)\n",
       "      (conv3): Conv2d(256, 1024, kernel_size=(1, 1), stride=(1, 1), bias=False)\n",
       "      (bn3): BatchNorm2d(1024, eps=1e-05, momentum=0.1, affine=True)\n",
       "      (relu): ReLU(inplace)\n",
       "    )\n",
       "    (5): Bottleneck(\n",
       "      (conv1): Conv2d(1024, 256, kernel_size=(1, 1), stride=(1, 1), bias=False)\n",
       "      (bn1): BatchNorm2d(256, eps=1e-05, momentum=0.1, affine=True)\n",
       "      (conv2): Conv2d(256, 256, kernel_size=(3, 3), stride=(1, 1), padding=(1, 1), bias=False)\n",
       "      (bn2): BatchNorm2d(256, eps=1e-05, momentum=0.1, affine=True)\n",
       "      (conv3): Conv2d(256, 1024, kernel_size=(1, 1), stride=(1, 1), bias=False)\n",
       "      (bn3): BatchNorm2d(1024, eps=1e-05, momentum=0.1, affine=True)\n",
       "      (relu): ReLU(inplace)\n",
       "    )\n",
       "  )\n",
       "  (7): Sequential(\n",
       "    (0): Bottleneck(\n",
       "      (conv1): Conv2d(1024, 512, kernel_size=(1, 1), stride=(1, 1), bias=False)\n",
       "      (bn1): BatchNorm2d(512, eps=1e-05, momentum=0.1, affine=True)\n",
       "      (conv2): Conv2d(512, 512, kernel_size=(3, 3), stride=(2, 2), padding=(1, 1), bias=False)\n",
       "      (bn2): BatchNorm2d(512, eps=1e-05, momentum=0.1, affine=True)\n",
       "      (conv3): Conv2d(512, 2048, kernel_size=(1, 1), stride=(1, 1), bias=False)\n",
       "      (bn3): BatchNorm2d(2048, eps=1e-05, momentum=0.1, affine=True)\n",
       "      (relu): ReLU(inplace)\n",
       "      (downsample): Sequential(\n",
       "        (0): Conv2d(1024, 2048, kernel_size=(1, 1), stride=(2, 2), bias=False)\n",
       "        (1): BatchNorm2d(2048, eps=1e-05, momentum=0.1, affine=True)\n",
       "      )\n",
       "    )\n",
       "    (1): Bottleneck(\n",
       "      (conv1): Conv2d(2048, 512, kernel_size=(1, 1), stride=(1, 1), bias=False)\n",
       "      (bn1): BatchNorm2d(512, eps=1e-05, momentum=0.1, affine=True)\n",
       "      (conv2): Conv2d(512, 512, kernel_size=(3, 3), stride=(1, 1), padding=(1, 1), bias=False)\n",
       "      (bn2): BatchNorm2d(512, eps=1e-05, momentum=0.1, affine=True)\n",
       "      (conv3): Conv2d(512, 2048, kernel_size=(1, 1), stride=(1, 1), bias=False)\n",
       "      (bn3): BatchNorm2d(2048, eps=1e-05, momentum=0.1, affine=True)\n",
       "      (relu): ReLU(inplace)\n",
       "    )\n",
       "    (2): Bottleneck(\n",
       "      (conv1): Conv2d(2048, 512, kernel_size=(1, 1), stride=(1, 1), bias=False)\n",
       "      (bn1): BatchNorm2d(512, eps=1e-05, momentum=0.1, affine=True)\n",
       "      (conv2): Conv2d(512, 512, kernel_size=(3, 3), stride=(1, 1), padding=(1, 1), bias=False)\n",
       "      (bn2): BatchNorm2d(512, eps=1e-05, momentum=0.1, affine=True)\n",
       "      (conv3): Conv2d(512, 2048, kernel_size=(1, 1), stride=(1, 1), bias=False)\n",
       "      (bn3): BatchNorm2d(2048, eps=1e-05, momentum=0.1, affine=True)\n",
       "      (relu): ReLU(inplace)\n",
       "    )\n",
       "  )\n",
       "  (8): AdaptiveConcatPool2d(\n",
       "    (ap): AdaptiveAvgPool2d(output_size=(1, 1))\n",
       "    (mp): AdaptiveMaxPool2d(output_size=(1, 1))\n",
       "  )\n",
       "  (9): Flatten(\n",
       "  )\n",
       "  (10): BatchNorm1d(4096, eps=1e-05, momentum=0.1, affine=True)\n",
       "  (11): Dropout(p=0.2)\n",
       "  (12): Linear(in_features=4096, out_features=512, bias=True)\n",
       "  (13): ReLU()\n",
       "  (14): BatchNorm1d(512, eps=1e-05, momentum=0.1, affine=True)\n",
       "  (15): Dropout(p=0.2)\n",
       "  (16): Linear(in_features=512, out_features=2, bias=True)\n",
       "  (17): LogSoftmax()\n",
       ")"
      ]
     },
     "execution_count": 16,
     "metadata": {},
     "output_type": "execute_result"
    }
   ],
   "source": [
    "learn = ConvLearner.pretrained(arch, data, precompute=False, ps=bestdrop)\n",
    "learn"
   ]
  },
  {
   "cell_type": "markdown",
   "metadata": {},
   "source": [
    "## Learning Rate"
   ]
  },
  {
   "cell_type": "code",
   "execution_count": 17,
   "metadata": {
    "scrolled": true
   },
   "outputs": [
    {
     "data": {
      "application/vnd.jupyter.widget-view+json": {
       "model_id": "14e5d373ac074f96982c9b6da2aa9d59",
       "version_major": 2,
       "version_minor": 0
      },
      "text/plain": [
       "HBox(children=(IntProgress(value=0, description='Epoch', max=1), HTML(value='')))"
      ]
     },
     "metadata": {},
     "output_type": "display_data"
    },
    {
     "name": "stdout",
     "output_type": "stream",
     "text": [
      "epoch      trn_loss   val_loss   accuracy                                                                           \n",
      "    0      2.009321   189.242641 0.5       \n",
      "\n"
     ]
    },
    {
     "data": {
      "image/png": "[encoded data removed]",
      "text/plain": [
       "<Figure size 432x288 with 1 Axes>"
      ]
     },
     "metadata": {},
     "output_type": "display_data"
    }
   ],
   "source": [
    "learn = ConvLearner.pretrained(arch, data, precompute=False, ps=[0,bestdrop])\n",
    "# Finding the learning rate\n",
    "lrf=learn.lr_find()\n",
    "# Plotting the learning rate\n",
    "learn.sched.plot()"
   ]
  },
  {
   "cell_type": "code",
   "execution_count": 18,
   "metadata": {
    "scrolled": true
   },
   "outputs": [
    {
     "data": {
      "application/vnd.jupyter.widget-view+json": {
       "model_id": "dfc56ebb6f6f406f92a2a6dab28f9ab3",
       "version_major": 2,
       "version_minor": 0
      },
      "text/plain": [
       "HBox(children=(IntProgress(value=0, description='Epoch', max=1), HTML(value='')))"
      ]
     },
     "metadata": {},
     "output_type": "display_data"
    },
    {
     "name": "stdout",
     "output_type": "stream",
     "text": [
      "epoch      trn_loss   val_loss   accuracy                                                                           \n",
      "    0      1.191208   343.566109 0.5       \n",
      "\n"
     ]
    },
    {
     "data": {
      "image/png": "[encoded data removed]",
      "text/plain": [
       "<Figure size 432x288 with 1 Axes>"
      ]
     },
     "metadata": {},
     "output_type": "display_data"
    }
   ],
   "source": [
    "learn = ConvLearner.pretrained(arch, data, precompute=False, ps=[bestdrop,0])\n",
    "# Finding the learning rate\n",
    "lrf=learn.lr_find()\n",
    "# Plotting the learning rate\n",
    "learn.sched.plot()"
   ]
  },
  {
   "cell_type": "markdown",
   "metadata": {},
   "source": [
    "## Run Tests"
   ]
  },
  {
   "cell_type": "code",
   "execution_count": 19,
   "metadata": {
    "scrolled": false
   },
   "outputs": [
    {
     "name": "stdout",
     "output_type": "stream",
     "text": [
      "Dropout Rates:  0.0 , 0.2\n"
     ]
    },
    {
     "data": {
      "application/vnd.jupyter.widget-view+json": {
       "model_id": "bb89d23c6f874f43814d10a434bc6ea2",
       "version_major": 2,
       "version_minor": 0
      },
      "text/plain": [
       "HBox(children=(IntProgress(value=0, description='Epoch', max=7), HTML(value='')))"
      ]
     },
     "metadata": {},
     "output_type": "display_data"
    },
    {
     "name": "stdout",
     "output_type": "stream",
     "text": [
      "epoch      trn_loss   val_loss   accuracy                                                                           \n",
      "    0      0.303878   0.227988   0.9055    \n",
      "    1      0.243985   0.214249   0.9085                                                                             \n",
      "    2      0.205326   0.199354   0.9135                                                                             \n",
      "    3      0.192328   0.212702   0.9045                                                                             \n",
      "    4      0.177004   0.192859   0.9195                                                                             \n",
      "    5      0.163256   0.194287   0.92                                                                               \n",
      "    6      0.151689   0.193413   0.9195                                                                             \n",
      "\n",
      "Wall time: 6min 55s\n",
      "Dropout Rates:  0.1 , 0.2\n"
     ]
    },
    {
     "data": {
      "application/vnd.jupyter.widget-view+json": {
       "model_id": "e3f711a606e74c789caa3d9b2d818417",
       "version_major": 2,
       "version_minor": 0
      },
      "text/plain": [
       "HBox(children=(IntProgress(value=0, description='Epoch', max=7), HTML(value='')))"
      ]
     },
     "metadata": {},
     "output_type": "display_data"
    },
    {
     "name": "stdout",
     "output_type": "stream",
     "text": [
      "epoch      trn_loss   val_loss   accuracy                                                                           \n",
      "    0      0.309594   0.224959   0.906     \n",
      "    1      0.247907   0.219269   0.906                                                                              \n",
      "    2      0.206213   0.206408   0.9075                                                                             \n",
      "    3      0.194986   0.209068   0.9105                                                                             \n",
      "    4      0.186253   0.197437   0.918                                                                              \n",
      "    5      0.171879   0.194021   0.9175                                                                             \n",
      "    6      0.160499   0.192691   0.92                                                                               \n",
      "\n",
      "Wall time: 6min 49s\n",
      "Dropout Rates:  0.2 , 0.2\n"
     ]
    },
    {
     "data": {
      "application/vnd.jupyter.widget-view+json": {
       "model_id": "bd21307c4e9d4b27938fd85283355c31",
       "version_major": 2,
       "version_minor": 0
      },
      "text/plain": [
       "HBox(children=(IntProgress(value=0, description='Epoch', max=7), HTML(value='')))"
      ]
     },
     "metadata": {},
     "output_type": "display_data"
    },
    {
     "name": "stdout",
     "output_type": "stream",
     "text": [
      "epoch      trn_loss   val_loss   accuracy                                                                           \n",
      "    0      0.319862   0.244444   0.905     \n",
      "    1      0.248632   0.212425   0.9095                                                                             \n",
      "    2      0.211615   0.203001   0.9095                                                                             \n",
      "    3      0.199168   0.201551   0.917                                                                              \n",
      "    4      0.188957   0.195001   0.919                                                                              \n",
      "    5      0.179215   0.196493   0.9185                                                                             \n",
      "    6      0.170379   0.197209   0.9185                                                                             \n",
      "\n",
      "Wall time: 6min 56s\n",
      "Dropout Rates:  0.3 , 0.2\n"
     ]
    },
    {
     "data": {
      "application/vnd.jupyter.widget-view+json": {
       "model_id": "994bb604de384f579929725ccda19797",
       "version_major": 2,
       "version_minor": 0
      },
      "text/plain": [
       "HBox(children=(IntProgress(value=0, description='Epoch', max=7), HTML(value='')))"
      ]
     },
     "metadata": {},
     "output_type": "display_data"
    },
    {
     "name": "stdout",
     "output_type": "stream",
     "text": [
      "epoch      trn_loss   val_loss   accuracy                                                                           \n",
      "    0      0.32999    0.23942    0.8955    \n",
      "    1      0.256809   0.207669   0.906                                                                              \n",
      "    2      0.219265   0.203033   0.9085                                                                             \n",
      "    3      0.206373   0.212523   0.9085                                                                             \n",
      "    4      0.196217   0.200754   0.9145                                                                             \n",
      "    5      0.183996   0.196656   0.914                                                                              \n",
      "    6      0.176317   0.19558    0.918                                                                              \n",
      "\n",
      "Wall time: 6min 53s\n",
      "Dropout Rates:  0.4 , 0.2\n"
     ]
    },
    {
     "data": {
      "application/vnd.jupyter.widget-view+json": {
       "model_id": "5d46b389ec9347519f99115e53aa6be4",
       "version_major": 2,
       "version_minor": 0
      },
      "text/plain": [
       "HBox(children=(IntProgress(value=0, description='Epoch', max=7), HTML(value='')))"
      ]
     },
     "metadata": {},
     "output_type": "display_data"
    },
    {
     "name": "stdout",
     "output_type": "stream",
     "text": [
      "epoch      trn_loss   val_loss   accuracy                                                                           \n",
      "    0      0.315836   0.22914    0.9       \n",
      "    1      0.256515   0.21579    0.907                                                                              \n",
      "    2      0.224311   0.203898   0.905                                                                              \n",
      "    3      0.213707   0.208155   0.908                                                                              \n",
      "    4      0.205924   0.203783   0.9125                                                                             \n",
      "    5      0.194355   0.20014    0.914                                                                              \n",
      "    6      0.186111   0.198662   0.914                                                                              \n",
      "\n",
      "Wall time: 6min 58s\n",
      "Dropout Rates:  0.5 , 0.2\n"
     ]
    },
    {
     "data": {
      "application/vnd.jupyter.widget-view+json": {
       "model_id": "895b3577e18d4d93aeada89da7a514aa",
       "version_major": 2,
       "version_minor": 0
      },
      "text/plain": [
       "HBox(children=(IntProgress(value=0, description='Epoch', max=7), HTML(value='')))"
      ]
     },
     "metadata": {},
     "output_type": "display_data"
    },
    {
     "name": "stdout",
     "output_type": "stream",
     "text": [
      "epoch      trn_loss   val_loss   accuracy                                                                           \n",
      "    0      0.323482   0.229775   0.9025    \n",
      "    1      0.261353   0.208002   0.9065                                                                             \n",
      "    2      0.230841   0.203886   0.91                                                                               \n",
      "    3      0.217315   0.204955   0.9095                                                                             \n",
      "    4      0.205044   0.200476   0.9155                                                                             \n",
      "    5      0.19916    0.198277   0.9155                                                                             \n",
      "    6      0.192588   0.197665   0.9165                                                                             \n",
      "\n",
      "Wall time: 6min 58s\n",
      "Dropout Rates:  0.6 , 0.2\n"
     ]
    },
    {
     "data": {
      "application/vnd.jupyter.widget-view+json": {
       "model_id": "535a380c3adc4649abd1d586a5e03c99",
       "version_major": 2,
       "version_minor": 0
      },
      "text/plain": [
       "HBox(children=(IntProgress(value=0, description='Epoch', max=7), HTML(value='')))"
      ]
     },
     "metadata": {},
     "output_type": "display_data"
    },
    {
     "name": "stdout",
     "output_type": "stream",
     "text": [
      "epoch      trn_loss   val_loss   accuracy                                                                           \n",
      "    0      0.341463   0.237467   0.9075    \n",
      "    1      0.266856   0.209285   0.901                                                                              \n",
      "    2      0.234631   0.207032   0.905                                                                              \n",
      "    3      0.227007   0.207318   0.9045                                                                             \n",
      "    4      0.217617   0.202663   0.9135                                                                             \n",
      "    5      0.207251   0.201904   0.911                                                                              \n",
      "    6      0.204192   0.201263   0.911                                                                              \n",
      "\n",
      "Wall time: 6min 55s\n",
      "Dropout Rates:  0.7 , 0.2\n"
     ]
    },
    {
     "data": {
      "application/vnd.jupyter.widget-view+json": {
       "model_id": "912fb20d61574b7f837d572ca7716519",
       "version_major": 2,
       "version_minor": 0
      },
      "text/plain": [
       "HBox(children=(IntProgress(value=0, description='Epoch', max=7), HTML(value='')))"
      ]
     },
     "metadata": {},
     "output_type": "display_data"
    },
    {
     "name": "stdout",
     "output_type": "stream",
     "text": [
      "epoch      trn_loss   val_loss   accuracy                                                                           \n",
      "    0      0.317932   0.236734   0.9015    \n",
      "    1      0.2641     0.208943   0.91                                                                               \n",
      "    2      0.237518   0.210137   0.91                                                                               \n",
      "    3      0.229365   0.204188   0.913                                                                              \n",
      "    4      0.225191   0.204893   0.914                                                                              \n",
      "    5      0.216041   0.204115   0.9075                                                                             \n",
      "    6      0.215323   0.20267    0.911                                                                              \n",
      "\n",
      "Wall time: 6min 51s\n",
      "Dropout Rates:  0.8 , 0.2\n"
     ]
    },
    {
     "data": {
      "application/vnd.jupyter.widget-view+json": {
       "model_id": "98f43e8520b14c729d18a5647c188fd6",
       "version_major": 2,
       "version_minor": 0
      },
      "text/plain": [
       "HBox(children=(IntProgress(value=0, description='Epoch', max=7), HTML(value='')))"
      ]
     },
     "metadata": {},
     "output_type": "display_data"
    },
    {
     "name": "stdout",
     "output_type": "stream",
     "text": [
      "epoch      trn_loss   val_loss   accuracy                                                                           \n",
      "    0      0.326465   0.237847   0.895     \n",
      "    1      0.272625   0.219451   0.9005                                                                             \n",
      "    2      0.253556   0.22013    0.9005                                                                             \n",
      "    3      0.247894   0.234166   0.895                                                                              \n",
      "    4      0.239102   0.219238   0.9025                                                                             \n",
      "    5      0.234814   0.211871   0.9015                                                                             \n",
      "    6      0.232849   0.215401   0.9                                                                                \n",
      "\n",
      "Wall time: 6min 48s\n",
      "Dropout Rates:  0.9 , 0.2\n"
     ]
    },
    {
     "data": {
      "application/vnd.jupyter.widget-view+json": {
       "model_id": "d6b78fb363684688aeb7d08286cb6d0a",
       "version_major": 2,
       "version_minor": 0
      },
      "text/plain": [
       "HBox(children=(IntProgress(value=0, description='Epoch', max=7), HTML(value='')))"
      ]
     },
     "metadata": {},
     "output_type": "display_data"
    },
    {
     "name": "stdout",
     "output_type": "stream",
     "text": [
      "epoch      trn_loss   val_loss   accuracy                                                                           \n",
      "    0      0.348256   0.263548   0.888     \n",
      "    1      0.301808   0.232393   0.902                                                                              \n",
      "    2      0.284511   0.243981   0.9005                                                                             \n",
      "    3      0.276393   0.237538   0.899                                                                              \n",
      "    4      0.270625   0.234538   0.899                                                                              \n",
      "    5      0.26429    0.230781   0.902                                                                              \n",
      "    6      0.262478   0.227491   0.9015                                                                             \n",
      "\n",
      "Wall time: 6min 55s\n"
     ]
    }
   ],
   "source": [
    "#### Dropout change in first layer only ####\n",
    "#loop through all entries in the dropouts array\n",
    "for dropout in dropouts:\n",
    "    learn = ConvLearner.pretrained(arch, data, precompute=False, ps=[dropout,bestdrop])\n",
    "    \n",
    "    print('Dropout Rates: ',dropout,',',bestdrop)\n",
    "    # Make sure we have enough cycles and due to dropout variability, let's make sure we are mixing things up a bit\n",
    "    %time fit_array = learn.fit(learnrate, 3, cycle_len=1, cycle_mult=2)\n",
    "    \n",
    "    # learn.fit actually returns an array that looks like this: [[0.1983260258436203],0.9185000009536743]\n",
    "    # it includes that last val_loss and accuracy values\n",
    "    accuracy = fit_array[1]\n",
    "    loss = fit_array[0][0]\n",
    "    # add them to our arrays for charting later\n",
    "    acc1.append(accuracy)\n",
    "    los1.append(loss)"
   ]
  },
  {
   "cell_type": "code",
   "execution_count": 20,
   "metadata": {
    "scrolled": false
   },
   "outputs": [
    {
     "name": "stdout",
     "output_type": "stream",
     "text": [
      "Dropout Rates:  0.2 , 0.0\n"
     ]
    },
    {
     "data": {
      "application/vnd.jupyter.widget-view+json": {
       "model_id": "7d79595a7b74419d83fec885dd9d018d",
       "version_major": 2,
       "version_minor": 0
      },
      "text/plain": [
       "HBox(children=(IntProgress(value=0, description='Epoch', max=7), HTML(value='')))"
      ]
     },
     "metadata": {},
     "output_type": "display_data"
    },
    {
     "name": "stdout",
     "output_type": "stream",
     "text": [
      "epoch      trn_loss   val_loss   accuracy                                                                           \n",
      "    0      0.300303   0.231621   0.901     \n",
      "    1      0.232031   0.205203   0.912                                                                              \n",
      "    2      0.197552   0.200957   0.914                                                                              \n",
      "    3      0.192768   0.203425   0.91                                                                               \n",
      "    4      0.181791   0.199931   0.915                                                                              \n",
      "    5      0.16948    0.195858   0.916                                                                              \n",
      "    6      0.156255   0.196938   0.917                                                                              \n",
      "\n",
      "Wall time: 6min 50s\n",
      "Dropout Rates:  0.2 , 0.1\n"
     ]
    },
    {
     "data": {
      "application/vnd.jupyter.widget-view+json": {
       "model_id": "36dd25648e4e422e9993f80e496acc26",
       "version_major": 2,
       "version_minor": 0
      },
      "text/plain": [
       "HBox(children=(IntProgress(value=0, description='Epoch', max=7), HTML(value='')))"
      ]
     },
     "metadata": {},
     "output_type": "display_data"
    },
    {
     "name": "stdout",
     "output_type": "stream",
     "text": [
      "epoch      trn_loss   val_loss   accuracy                                                                           \n",
      "    0      0.289705   0.237337   0.893     \n",
      "    1      0.24122    0.211219   0.905                                                                              \n",
      "    2      0.206072   0.204894   0.91                                                                               \n",
      "    3      0.196584   0.20126    0.912                                                                              \n",
      "    4      0.185528   0.201219   0.913                                                                              \n",
      "    5      0.174518   0.201817   0.9145                                                                             \n",
      "    6      0.164939   0.194637   0.9155                                                                             \n",
      "\n",
      "Wall time: 6min 54s\n",
      "Dropout Rates:  0.2 , 0.2\n"
     ]
    },
    {
     "data": {
      "application/vnd.jupyter.widget-view+json": {
       "model_id": "86176cd8d3da4d43883e90541263c492",
       "version_major": 2,
       "version_minor": 0
      },
      "text/plain": [
       "HBox(children=(IntProgress(value=0, description='Epoch', max=7), HTML(value='')))"
      ]
     },
     "metadata": {},
     "output_type": "display_data"
    },
    {
     "name": "stdout",
     "output_type": "stream",
     "text": [
      "epoch      trn_loss   val_loss   accuracy                                                                           \n",
      "    0      0.348972   0.244578   0.9025    \n",
      "    1      0.272884   0.221429   0.901                                                                              \n",
      "    2      0.226449   0.205942   0.907                                                                              \n",
      "    3      0.210376   0.208685   0.9045                                                                             \n",
      "    4      0.196556   0.208155   0.9125                                                                             \n",
      "    5      0.180417   0.201237   0.912                                                                              \n",
      "    6      0.171894   0.201693   0.912                                                                              \n",
      "\n",
      "Wall time: 6min 54s\n",
      "Dropout Rates:  0.2 , 0.3\n"
     ]
    },
    {
     "data": {
      "application/vnd.jupyter.widget-view+json": {
       "model_id": "eb8a58d9533d47f9a16f1992a79c3d6a",
       "version_major": 2,
       "version_minor": 0
      },
      "text/plain": [
       "HBox(children=(IntProgress(value=0, description='Epoch', max=7), HTML(value='')))"
      ]
     },
     "metadata": {},
     "output_type": "display_data"
    },
    {
     "name": "stdout",
     "output_type": "stream",
     "text": [
      "epoch      trn_loss   val_loss   accuracy                                                                           \n",
      "    0      0.301272   0.237222   0.9005    \n",
      "    1      0.246108   0.204351   0.911                                                                              \n",
      "    2      0.212907   0.198214   0.915                                                                              \n",
      "    3      0.202543   0.201803   0.9175                                                                             \n",
      "    4      0.191923   0.202305   0.9155                                                                             \n",
      "    5      0.181539   0.196462   0.9185                                                                             \n",
      "    6      0.174463   0.195055   0.9165                                                                             \n",
      "\n",
      "Wall time: 6min 56s\n",
      "Dropout Rates:  0.2 , 0.4\n"
     ]
    },
    {
     "data": {
      "application/vnd.jupyter.widget-view+json": {
       "model_id": "a8deac0ed90343799b447c89467f3750",
       "version_major": 2,
       "version_minor": 0
      },
      "text/plain": [
       "HBox(children=(IntProgress(value=0, description='Epoch', max=7), HTML(value='')))"
      ]
     },
     "metadata": {},
     "output_type": "display_data"
    },
    {
     "name": "stdout",
     "output_type": "stream",
     "text": [
      "epoch      trn_loss   val_loss   accuracy                                                                           \n",
      "    0      0.326852   0.231784   0.906     \n",
      "    1      0.26047    0.215416   0.9055                                                                             \n",
      "    2      0.220017   0.205959   0.9085                                                                             \n",
      "    3      0.208828   0.201269   0.913                                                                              \n",
      "    4      0.196196   0.201447   0.915                                                                              \n",
      "    5      0.186011   0.197928   0.9135                                                                             \n",
      "    6      0.180733   0.196891   0.9135                                                                             \n",
      "\n",
      "Wall time: 7min 2s\n",
      "Dropout Rates:  0.2 , 0.5\n"
     ]
    },
    {
     "data": {
      "application/vnd.jupyter.widget-view+json": {
       "model_id": "d7a9baddd7dd466bb33350dbe2526570",
       "version_major": 2,
       "version_minor": 0
      },
      "text/plain": [
       "HBox(children=(IntProgress(value=0, description='Epoch', max=7), HTML(value='')))"
      ]
     },
     "metadata": {},
     "output_type": "display_data"
    },
    {
     "name": "stdout",
     "output_type": "stream",
     "text": [
      "epoch      trn_loss   val_loss   accuracy                                                                           \n",
      "    0      0.37176    0.239658   0.902     \n",
      "    1      0.281254   0.202655   0.9095                                                                             \n",
      "    2      0.231406   0.201771   0.9135                                                                             \n",
      "    3      0.213458   0.198017   0.919                                                                              \n",
      "    4      0.203841   0.200581   0.916                                                                              \n",
      "    5      0.193097   0.197531   0.917                                                                              \n",
      "    6      0.184742   0.197811   0.9185                                                                             \n",
      "\n",
      "Wall time: 6min 51s\n",
      "Dropout Rates:  0.2 , 0.6\n"
     ]
    },
    {
     "data": {
      "application/vnd.jupyter.widget-view+json": {
       "model_id": "8f636126a13c4dfabd77559d3debe789",
       "version_major": 2,
       "version_minor": 0
      },
      "text/plain": [
       "HBox(children=(IntProgress(value=0, description='Epoch', max=7), HTML(value='')))"
      ]
     },
     "metadata": {},
     "output_type": "display_data"
    },
    {
     "name": "stdout",
     "output_type": "stream",
     "text": [
      "epoch      trn_loss   val_loss   accuracy                                                                           \n",
      "    0      0.384612   0.249667   0.901     \n",
      "    1      0.279913   0.213573   0.906                                                                              \n",
      "    2      0.236065   0.208712   0.908                                                                              \n",
      "    3      0.221534   0.207553   0.91                                                                               \n",
      "    4      0.209181   0.207392   0.9105                                                                             \n",
      "    5      0.199564   0.200132   0.913                                                                              \n",
      "    6      0.193738   0.200706   0.912                                                                              \n",
      "\n",
      "Wall time: 6min 59s\n",
      "Dropout Rates:  0.2 , 0.7\n"
     ]
    },
    {
     "data": {
      "application/vnd.jupyter.widget-view+json": {
       "model_id": "56a77cea508946f1b3c9a4ff82686b3c",
       "version_major": 2,
       "version_minor": 0
      },
      "text/plain": [
       "HBox(children=(IntProgress(value=0, description='Epoch', max=7), HTML(value='')))"
      ]
     },
     "metadata": {},
     "output_type": "display_data"
    },
    {
     "name": "stdout",
     "output_type": "stream",
     "text": [
      "epoch      trn_loss   val_loss   accuracy                                                                           \n",
      "    0      0.418745   0.249887   0.906     \n",
      "    1      0.301914   0.211515   0.9075                                                                             \n",
      "    2      0.247965   0.20563    0.908                                                                              \n",
      "    3      0.231318   0.213517   0.9045                                                                             \n",
      "    4      0.220172   0.207903   0.9075                                                                             \n",
      "    5      0.209209   0.201761   0.912                                                                              \n",
      "    6      0.201078   0.20101    0.9105                                                                             \n",
      "\n",
      "Wall time: 6min 58s\n",
      "Dropout Rates:  0.2 , 0.8\n"
     ]
    },
    {
     "data": {
      "application/vnd.jupyter.widget-view+json": {
       "model_id": "93f5b6bc8b7e41e589998553ca888f8e",
       "version_major": 2,
       "version_minor": 0
      },
      "text/plain": [
       "HBox(children=(IntProgress(value=0, description='Epoch', max=7), HTML(value='')))"
      ]
     },
     "metadata": {},
     "output_type": "display_data"
    },
    {
     "name": "stdout",
     "output_type": "stream",
     "text": [
      "epoch      trn_loss   val_loss   accuracy                                                                           \n",
      "    0      0.496897   0.270431   0.898     \n",
      "    1      0.331633   0.209315   0.905                                                                              \n",
      "    2      0.264348   0.207294   0.9085                                                                             \n",
      "    3      0.24481    0.208409   0.905                                                                              \n",
      "    4      0.233931   0.215148   0.9035                                                                             \n",
      "    5      0.220217   0.203207   0.908                                                                              \n",
      "    6      0.210385   0.203535   0.909                                                                              \n",
      "\n",
      "Wall time: 7min 2s\n",
      "Dropout Rates:  0.2 , 0.9\n"
     ]
    },
    {
     "data": {
      "application/vnd.jupyter.widget-view+json": {
       "model_id": "7a34879144e14400a38bc1de223ba688",
       "version_major": 2,
       "version_minor": 0
      },
      "text/plain": [
       "HBox(children=(IntProgress(value=0, description='Epoch', max=7), HTML(value='')))"
      ]
     },
     "metadata": {},
     "output_type": "display_data"
    },
    {
     "name": "stdout",
     "output_type": "stream",
     "text": [
      "epoch      trn_loss   val_loss   accuracy                                                                           \n",
      "    0      0.575522   0.269918   0.899     \n",
      "    1      0.380822   0.229565   0.8995                                                                             \n",
      "    2      0.299495   0.216372   0.908                                                                              \n",
      "    3      0.277865   0.21847    0.907                                                                              \n",
      "    4      0.262767   0.20972    0.912                                                                              \n",
      "    5      0.243484   0.207954   0.9105                                                                             \n",
      "    6      0.233652   0.20904    0.9075                                                                             \n",
      "\n",
      "Wall time: 7min 3s\n"
     ]
    }
   ],
   "source": [
    "#### Dropout change in second layer only ####\n",
    "#loop through all entries in the dropouts array\n",
    "for dropout in dropouts:\n",
    "    learn = ConvLearner.pretrained(arch, data, precompute=False, ps=[bestdrop,dropout])\n",
    "    \n",
    "    print('Dropout Rates: ',bestdrop,',',dropout)\n",
    "    # Make sure we have enough cycles and due to dropout variability, let's make sure we are mixing things up a bit\n",
    "    %time fit_array = learn.fit(learnrate, 3, cycle_len=1, cycle_mult=2)\n",
    "    \n",
    "    # learn.fit actually returns an array that looks like this: [[0.1983260258436203],0.9185000009536743]\n",
    "    # it includes that last val_loss and accuracy values\n",
    "    accuracy = fit_array[1]\n",
    "    loss = fit_array[0][0]\n",
    "    # add them to our arrays for charting later\n",
    "    acc2.append(accuracy)\n",
    "    los2.append(loss)"
   ]
  },
  {
   "cell_type": "code",
   "execution_count": 21,
   "metadata": {},
   "outputs": [
    {
     "name": "stdout",
     "output_type": "stream",
     "text": [
      "[0.0, 0.1, 0.2, 0.3, 0.4, 0.5, 0.6, 0.7, 0.8, 0.9]\n",
      "[0.9194999985694885, 0.9200000009536743, 0.9184999952316284, 0.9179999985694886, 0.9140000038146973, 0.9164999952316284, 0.9109999976158142, 0.9110000057220459, 0.8999999985694885, 0.9015000066757202]\n",
      "[0.19341319370269774, 0.19269148707389833, 0.19720906472206115, 0.19557973504066467, 0.19866210913658142, 0.1976653196811676, 0.2012625241279602, 0.20267004132270813, 0.21540107226371766, 0.22749121689796448]\n",
      "[0.9169999961853027, 0.915500006198883, 0.9120000066757202, 0.9165000066757202, 0.9134999952316284, 0.9184999957084655, 0.9120000061988831, 0.910500006198883, 0.9090000009536743, 0.9074999952316284]\n",
      "[0.1969375902414322, 0.19463720428943634, 0.20169334506988526, 0.19505501532554625, 0.19689125537872315, 0.19781051659584045, 0.20070613944530488, 0.2010102038383484, 0.20353524327278139, 0.20904021191596986]\n"
     ]
    }
   ],
   "source": [
    "print(dropouts)\n",
    "# dropout changes in first layer\n",
    "print(acc1) \n",
    "print(los1)\n",
    "# dropout changes in second layer\n",
    "print(acc2)\n",
    "print(los2)"
   ]
  },
  {
   "cell_type": "code",
   "execution_count": 22,
   "metadata": {},
   "outputs": [],
   "source": [
    "#cheatsheet of results\n",
    "#acc1 = \n",
    "#acc2 = "
   ]
  },
  {
   "cell_type": "markdown",
   "metadata": {},
   "source": [
    "## Interpreting Results"
   ]
  },
  {
   "cell_type": "code",
   "execution_count": 25,
   "metadata": {},
   "outputs": [
    {
     "data": {
      "image/png": "[encoded data removed]",
      "text/plain": [
       "<Figure size 720x432 with 1 Axes>"
      ]
     },
     "metadata": {},
     "output_type": "display_data"
    }
   ],
   "source": [
    "width = 0.05 # bar width\n",
    "# Get current size\n",
    "fig_size = plt.rcParams[\"figure.figsize\"]\n",
    "# Set new size (0=width,1=height)\n",
    "fig_size[0] = 10\n",
    "fig_size[1] = 6\n",
    "plt.rcParams[\"figure.figsize\"] = fig_size\n",
    "\n",
    "plt.bar(dropouts, acc1, width, align='center')\n",
    "\n",
    "plt.tick_params(axis='x', which='major', labelsize=10)\n",
    "plt.tick_params(axis='y', which='major', labelsize=15)\n",
    "\n",
    "xrange = np.arange(0,1,.1)\n",
    "plt.xticks(xrange, dropouts)\n",
    "plt.ylim(.85,.95)\n",
    "\n",
    "plt.xlabel('Dropout X,0.2', size = 20)\n",
    "plt.ylabel('Accuracy',size = 20)\n",
    "\n",
    "plt.show()"
   ]
  },
  {
   "cell_type": "code",
   "execution_count": 26,
   "metadata": {},
   "outputs": [
    {
     "data": {
      "image/png": "[encoded data removed]",
      "text/plain": [
       "<Figure size 720x432 with 1 Axes>"
      ]
     },
     "metadata": {},
     "output_type": "display_data"
    }
   ],
   "source": [
    "plt.bar(dropouts, acc2, width, align='center')\n",
    "\n",
    "plt.tick_params(axis='x', which='major', labelsize=10)\n",
    "plt.tick_params(axis='y', which='major', labelsize=15)\n",
    "\n",
    "xrange = np.arange(0,1,.1)\n",
    "plt.xticks(xrange, dropouts)\n",
    "plt.ylim(.85,.95)\n",
    "\n",
    "plt.xlabel('Dropout 0.2,X', size = 20)\n",
    "plt.ylabel('Accuracy',size = 20)\n",
    "\n",
    "plt.show()"
   ]
  }
 ],
 "metadata": {
  "kernelspec": {
   "display_name": "Python 3",
   "language": "python",
   "name": "python3"
  },
  "language_info": {
   "codemirror_mode": {
    "name": "ipython",
    "version": 3
   },
   "file_extension": ".py",
   "mimetype": "text/x-python",
   "name": "python",
   "nbconvert_exporter": "python",
   "pygments_lexer": "ipython3",
   "version": "3.6.5"
  }
 },
 "nbformat": 4,
 "nbformat_minor": 2
}
