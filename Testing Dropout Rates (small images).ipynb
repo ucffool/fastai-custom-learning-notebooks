{
 "cells": [
  {
   "cell_type": "markdown",
   "metadata": {},
   "source": [
    "# Testing the effect of *Dropout Rates* on Loss and Accuracy\n",
    "\n",
    "*This notebook uses the **Dog or Cat** data set available [here](http://files.fast.ai/data/dogscats.zip)*"
   ]
  },
  {
   "cell_type": "code",
   "execution_count": 2,
   "metadata": {},
   "outputs": [],
   "source": [
    "# Put these at the top of every notebook, to get automatic reloading and inline plotting\n",
    "%reload_ext autoreload\n",
    "%autoreload 2\n",
    "%matplotlib inline"
   ]
  },
  {
   "cell_type": "code",
   "execution_count": 3,
   "metadata": {},
   "outputs": [],
   "source": [
    "# This file contains all the main external libs we'll use\n",
    "from fastai.imports import *\n",
    "\n",
    "from fastai.transforms import *\n",
    "from fastai.conv_learner import *\n",
    "from fastai.model import *\n",
    "from fastai.dataset import *\n",
    "from fastai.sgdr import *\n",
    "from fastai.plots import *\n",
    "\n",
    "# Using the same data set as Deep Learning Part 1 - lesson 1\n",
    "PATH = \"data/dogscats/\"\n",
    "# Select an image model\n",
    "arch=resnet50\n",
    "# Set to the number of CPU Cores you have\n",
    "workers=8\n",
    "# this is an array we will iterate through to test each one\n",
    "dropouts = [0.0, 0.1, 0.2, 0.3, 0.4, 0.5, 0.6, 0.7, 0.8, 0.9]\n",
    "\n",
    "# these variables are used for capturing results\n",
    "los = []\n",
    "acc = []"
   ]
  },
  {
   "cell_type": "markdown",
   "metadata": {},
   "source": [
    "## Learning Rate\n",
    "\n",
    "Let's see how learning rate is affected by batch size, starting with a small 64 batch size."
   ]
  },
  {
   "cell_type": "code",
   "execution_count": 4,
   "metadata": {},
   "outputs": [],
   "source": [
    "sz=64 # 64x64 image size is very small and thus faster\n",
    "bs=64 # batch size\n",
    "learnrate = 5e-3 #0.005"
   ]
  },
  {
   "cell_type": "code",
   "execution_count": 5,
   "metadata": {},
   "outputs": [],
   "source": [
    "tfms = tfms_from_model(arch, sz)\n",
    "data = ImageClassifierData.from_paths(PATH, tfms=tfms, bs=bs, num_workers=workers)"
   ]
  },
  {
   "cell_type": "markdown",
   "metadata": {},
   "source": [
    "### Let's try it with no dropouts (ps=0)"
   ]
  },
  {
   "cell_type": "code",
   "execution_count": 6,
   "metadata": {},
   "outputs": [
    {
     "data": {
      "application/vnd.jupyter.widget-view+json": {
       "model_id": "c8b09b5dbb0a42d7b3a1260c034962dc",
       "version_major": 2,
       "version_minor": 0
      },
      "text/plain": [
       "HBox(children=(IntProgress(value=0, description='Epoch', max=1), HTML(value='')))"
      ]
     },
     "metadata": {},
     "output_type": "display_data"
    },
    {
     "name": "stdout",
     "output_type": "stream",
     "text": [
      " 89%|██████████████████████████████████████████████████████████▋       | 320/360 [01:21<00:10,  3.93it/s, loss=1.17]"
     ]
    },
    {
     "data": {
      "image/png": "[encoded data removed]",
      "text/plain": [
       "<Figure size 432x288 with 1 Axes>"
      ]
     },
     "metadata": {},
     "output_type": "display_data"
    }
   ],
   "source": [
    "learn = ConvLearner.pretrained(arch, data, precompute=False, ps=0)\n",
    "# Finding the learning rate\n",
    "lrf=learn.lr_find()\n",
    "# Plotting the learning rate\n",
    "learn.sched.plot()"
   ]
  },
  {
   "cell_type": "markdown",
   "metadata": {},
   "source": [
    "Not very smooth. Due to the small batch size, we need a very small learning rate.\n",
    "### Now let's try it with 90% dropout (ps=0.9)"
   ]
  },
  {
   "cell_type": "code",
   "execution_count": 7,
   "metadata": {
    "scrolled": true
   },
   "outputs": [
    {
     "data": {
      "application/vnd.jupyter.widget-view+json": {
       "model_id": "95e1dc53c75540e089a66fe79990eec5",
       "version_major": 2,
       "version_minor": 0
      },
      "text/plain": [
       "HBox(children=(IntProgress(value=0, description='Epoch', max=1), HTML(value='')))"
      ]
     },
     "metadata": {},
     "output_type": "display_data"
    },
    {
     "name": "stdout",
     "output_type": "stream",
     "text": [
      " 76%|█████████████████████████████████████████████████▊                | 272/360 [00:37<00:12,  7.17it/s, loss=3.31]"
     ]
    },
    {
     "data": {
      "image/png": "[encoded data removed]",
      "text/plain": [
       "<Figure size 432x288 with 1 Axes>"
      ]
     },
     "metadata": {},
     "output_type": "display_data"
    }
   ],
   "source": [
    "learn = ConvLearner.pretrained(arch, data, precompute=False, ps=0.9)\n",
    "# Finding the learning rate\n",
    "lrf=learn.lr_find()\n",
    "# Plotting the learning rate\n",
    "learn.sched.plot()"
   ]
  },
  {
   "cell_type": "markdown",
   "metadata": {},
   "source": [
    "## Time to change the batch size (increase by 8x) and see what happens"
   ]
  },
  {
   "cell_type": "code",
   "execution_count": 8,
   "metadata": {},
   "outputs": [],
   "source": [
    "sz=64 # unchanged\n",
    "bs=512 # batch size\n",
    "learnrate = 1e-1 #0.1"
   ]
  },
  {
   "cell_type": "code",
   "execution_count": 9,
   "metadata": {},
   "outputs": [],
   "source": [
    "tfms = tfms_from_model(arch, sz)\n",
    "data = ImageClassifierData.from_paths(PATH, tfms=tfms, bs=bs, num_workers=workers)"
   ]
  },
  {
   "cell_type": "markdown",
   "metadata": {},
   "source": [
    "Once again, start with no dropout."
   ]
  },
  {
   "cell_type": "code",
   "execution_count": 10,
   "metadata": {},
   "outputs": [
    {
     "data": {
      "application/vnd.jupyter.widget-view+json": {
       "model_id": "ad79f2f16ea3478a835e8650ea1c9489",
       "version_major": 2,
       "version_minor": 0
      },
      "text/plain": [
       "HBox(children=(IntProgress(value=0, description='Epoch', max=1), HTML(value='')))"
      ]
     },
     "metadata": {},
     "output_type": "display_data"
    },
    {
     "name": "stdout",
     "output_type": "stream",
     "text": [
      "epoch      trn_loss   val_loss   accuracy                                                                           \n",
      "    0      0.818998   29.909272  0.5       \n"
     ]
    },
    {
     "data": {
      "image/png": "[encoded data removed]",
      "text/plain": [
       "<Figure size 432x288 with 1 Axes>"
      ]
     },
     "metadata": {},
     "output_type": "display_data"
    }
   ],
   "source": [
    "learn = ConvLearner.pretrained(arch, data, precompute=False, ps=0)\n",
    "# Finding the learning rate\n",
    "lrf=learn.lr_find()\n",
    "# Plotting the learning rate\n",
    "learn.sched.plot()"
   ]
  },
  {
   "cell_type": "markdown",
   "metadata": {},
   "source": [
    "Then switch to 0.9 dropout rate."
   ]
  },
  {
   "cell_type": "code",
   "execution_count": 11,
   "metadata": {
    "scrolled": true
   },
   "outputs": [
    {
     "data": {
      "application/vnd.jupyter.widget-view+json": {
       "model_id": "009ef3a7f0d749b3984206dd764504d6",
       "version_major": 2,
       "version_minor": 0
      },
      "text/plain": [
       "HBox(children=(IntProgress(value=0, description='Epoch', max=1), HTML(value='')))"
      ]
     },
     "metadata": {},
     "output_type": "display_data"
    },
    {
     "name": "stdout",
     "output_type": "stream",
     "text": [
      " 98%|██████████████████████████████████████████████████████████████████▍ | 44/45 [00:52<00:01,  1.19s/it, loss=11.8]"
     ]
    },
    {
     "data": {
      "image/png": "[encoded data removed]",
      "text/plain": [
       "<Figure size 432x288 with 1 Axes>"
      ]
     },
     "metadata": {},
     "output_type": "display_data"
    }
   ],
   "source": [
    "learn = ConvLearner.pretrained(arch, data, precompute=False, ps=0.9)\n",
    "# Finding the learning rate\n",
    "lrf=learn.lr_find()\n",
    "# Plotting the learning rate\n",
    "learn.sched.plot()"
   ]
  },
  {
   "cell_type": "markdown",
   "metadata": {},
   "source": [
    "### Learning Rate Conclusions:\n",
    "\n",
    "It's important to see that the best **learning rate** needs to be ***smaller*** when the **dropout rate** ***increases***. However, the effect is quite minor and playing it safe with a smaller learning rate goes a long way."
   ]
  },
  {
   "cell_type": "markdown",
   "metadata": {},
   "source": [
    "# Start the Dropout Tests\n",
    "\n",
    "We'll stick to the larger batch size and a learning rate of **0.1** for our tests."
   ]
  },
  {
   "cell_type": "code",
   "execution_count": 12,
   "metadata": {},
   "outputs": [
    {
     "name": "stdout",
     "output_type": "stream",
     "text": [
      "Dropout Rate: 0.0\n"
     ]
    },
    {
     "data": {
      "application/vnd.jupyter.widget-view+json": {
       "model_id": "c2ac1ffe756c46ef89fa4bb7f99b42c4",
       "version_major": 2,
       "version_minor": 0
      },
      "text/plain": [
       "HBox(children=(IntProgress(value=0, description='Epoch', max=7), HTML(value='')))"
      ]
     },
     "metadata": {},
     "output_type": "display_data"
    },
    {
     "name": "stdout",
     "output_type": "stream",
     "text": [
      "epoch      trn_loss   val_loss   accuracy                                                                           \n",
      "    0      0.313891   0.238979   0.9015    \n",
      "    1      0.236251   0.209109   0.9                                                                                \n",
      "    2      0.193279   0.204256   0.9085                                                                             \n",
      "    3      0.18151    0.226737   0.9045                                                                             \n",
      "    4      0.167762   0.204553   0.9115                                                                             \n",
      "    5      0.151091   0.199123   0.9155                                                                             \n",
      "    6      0.136914   0.198326   0.9185                                                                             \n",
      "Wall time: 6min 45s\n",
      "Dropout Rate: 0.1\n"
     ]
    },
    {
     "data": {
      "application/vnd.jupyter.widget-view+json": {
       "model_id": "0a5a44568b84445ea6018f3db657d129",
       "version_major": 2,
       "version_minor": 0
      },
      "text/plain": [
       "HBox(children=(IntProgress(value=0, description='Epoch', max=7), HTML(value='')))"
      ]
     },
     "metadata": {},
     "output_type": "display_data"
    },
    {
     "name": "stdout",
     "output_type": "stream",
     "text": [
      "epoch      trn_loss   val_loss   accuracy                                                                           \n",
      "    0      0.29487    0.241098   0.8985    \n",
      "    1      0.235337   0.209647   0.912                                                                              \n",
      "    2      0.202847   0.205781   0.911                                                                              \n",
      "    3      0.192033   0.210064   0.909                                                                              \n",
      "    4      0.17901    0.20149    0.912                                                                              \n",
      "    5      0.167881   0.194679   0.9185                                                                             \n",
      "    6      0.154043   0.193296   0.918                                                                              \n",
      "Wall time: 6min 42s\n",
      "Dropout Rate: 0.2\n"
     ]
    },
    {
     "data": {
      "application/vnd.jupyter.widget-view+json": {
       "model_id": "f94f1da894d54f7085662b98e3e37bc5",
       "version_major": 2,
       "version_minor": 0
      },
      "text/plain": [
       "HBox(children=(IntProgress(value=0, description='Epoch', max=7), HTML(value='')))"
      ]
     },
     "metadata": {},
     "output_type": "display_data"
    },
    {
     "name": "stdout",
     "output_type": "stream",
     "text": [
      "epoch      trn_loss   val_loss   accuracy                                                                           \n",
      "    0      0.301981   0.221078   0.9025    \n",
      "    1      0.247449   0.205291   0.908                                                                              \n",
      "    2      0.211668   0.201737   0.9135                                                                             \n",
      "    3      0.199958   0.199892   0.9135                                                                             \n",
      "    4      0.189626   0.195377   0.921                                                                              \n",
      "    5      0.179039   0.191918   0.9155                                                                             \n",
      "    6      0.170428   0.192304   0.922                                                                              \n",
      "Wall time: 6min 54s\n",
      "Dropout Rate: 0.3\n"
     ]
    },
    {
     "data": {
      "application/vnd.jupyter.widget-view+json": {
       "model_id": "4a6671a887c44d4896ad2fa80f41c845",
       "version_major": 2,
       "version_minor": 0
      },
      "text/plain": [
       "HBox(children=(IntProgress(value=0, description='Epoch', max=7), HTML(value='')))"
      ]
     },
     "metadata": {},
     "output_type": "display_data"
    },
    {
     "name": "stdout",
     "output_type": "stream",
     "text": [
      "epoch      trn_loss   val_loss   accuracy                                                                           \n",
      "    0      0.314277   0.228572   0.904     \n",
      "    1      0.252347   0.204062   0.9105                                                                             \n",
      "    2      0.219778   0.200656   0.91                                                                               \n",
      "    3      0.20895    0.204685   0.9125                                                                             \n",
      "    4      0.194323   0.202164   0.9115                                                                             \n",
      "    5      0.187408   0.19987    0.9095                                                                             \n",
      "    6      0.180239   0.198669   0.9115                                                                             \n",
      "Wall time: 6min 43s\n",
      "Dropout Rate: 0.4\n"
     ]
    },
    {
     "data": {
      "application/vnd.jupyter.widget-view+json": {
       "model_id": "76ff6167d0c34acd99353fa73816653f",
       "version_major": 2,
       "version_minor": 0
      },
      "text/plain": [
       "HBox(children=(IntProgress(value=0, description='Epoch', max=7), HTML(value='')))"
      ]
     },
     "metadata": {},
     "output_type": "display_data"
    },
    {
     "name": "stdout",
     "output_type": "stream",
     "text": [
      "epoch      trn_loss   val_loss   accuracy                                                                           \n",
      "    0      0.3502     0.242442   0.9085    \n",
      "    1      0.267003   0.209516   0.907                                                                              \n",
      "    2      0.229521   0.205296   0.9085                                                                             \n",
      "    3      0.217855   0.201976   0.913                                                                              \n",
      "    4      0.206247   0.198668   0.9115                                                                             \n",
      "    5      0.197437   0.200144   0.9135                                                                             \n",
      "    6      0.193778   0.198045   0.914                                                                              \n",
      "Wall time: 6min 42s\n",
      "Dropout Rate: 0.5\n"
     ]
    },
    {
     "data": {
      "application/vnd.jupyter.widget-view+json": {
       "model_id": "2636c5f2aeaf4a8a9bcf144ebae71788",
       "version_major": 2,
       "version_minor": 0
      },
      "text/plain": [
       "HBox(children=(IntProgress(value=0, description='Epoch', max=7), HTML(value='')))"
      ]
     },
     "metadata": {},
     "output_type": "display_data"
    },
    {
     "name": "stdout",
     "output_type": "stream",
     "text": [
      "epoch      trn_loss   val_loss   accuracy                                                                           \n",
      "    0      0.348336   0.228441   0.901     \n",
      "    1      0.269257   0.210594   0.9085                                                                             \n",
      "    2      0.23605    0.206997   0.9085                                                                             \n",
      "    3      0.227369   0.206208   0.9055                                                                             \n",
      "    4      0.216654   0.207942   0.911                                                                              \n",
      "    5      0.209248   0.202635   0.91                                                                               \n",
      "    6      0.203432   0.202215   0.9125                                                                             \n",
      "Wall time: 6min 42s\n",
      "Dropout Rate: 0.6\n"
     ]
    },
    {
     "data": {
      "application/vnd.jupyter.widget-view+json": {
       "model_id": "d378cdd477b84768a0261ea1024243f6",
       "version_major": 2,
       "version_minor": 0
      },
      "text/plain": [
       "HBox(children=(IntProgress(value=0, description='Epoch', max=7), HTML(value='')))"
      ]
     },
     "metadata": {},
     "output_type": "display_data"
    },
    {
     "name": "stdout",
     "output_type": "stream",
     "text": [
      "epoch      trn_loss   val_loss   accuracy                                                                           \n",
      "    0      0.35884    0.234591   0.9055    \n",
      "    1      0.283231   0.21209    0.909                                                                              \n",
      "    2      0.250394   0.211954   0.9065                                                                             \n",
      "    3      0.242761   0.209553   0.9055                                                                             \n",
      "    4      0.23145    0.20608    0.9085                                                                             \n",
      "    5      0.222923   0.202778   0.908                                                                              \n",
      "    6      0.216216   0.203385   0.9075                                                                             \n",
      "Wall time: 6min 41s\n",
      "Dropout Rate: 0.7\n"
     ]
    },
    {
     "data": {
      "application/vnd.jupyter.widget-view+json": {
       "model_id": "ac14efaa082d4d3989adebe40fb586e2",
       "version_major": 2,
       "version_minor": 0
      },
      "text/plain": [
       "HBox(children=(IntProgress(value=0, description='Epoch', max=7), HTML(value='')))"
      ]
     },
     "metadata": {},
     "output_type": "display_data"
    },
    {
     "name": "stdout",
     "output_type": "stream",
     "text": [
      "epoch      trn_loss   val_loss   accuracy                                                                           \n",
      "    0      0.415222   0.241203   0.897     \n",
      "    1      0.306432   0.227006   0.901                                                                              \n",
      "    2      0.264838   0.215508   0.905                                                                              \n",
      "    3      0.253856   0.212489   0.907                                                                              \n",
      "    4      0.248892   0.211316   0.909                                                                              \n",
      "    5      0.239391   0.20932    0.9035                                                                             \n",
      "    6      0.232855   0.209022   0.902                                                                              \n",
      "Wall time: 6min 42s\n",
      "Dropout Rate: 0.8\n"
     ]
    },
    {
     "data": {
      "application/vnd.jupyter.widget-view+json": {
       "model_id": "83454953d7e140f595606ebb8f1f7d74",
       "version_major": 2,
       "version_minor": 0
      },
      "text/plain": [
       "HBox(children=(IntProgress(value=0, description='Epoch', max=7), HTML(value='')))"
      ]
     },
     "metadata": {},
     "output_type": "display_data"
    },
    {
     "name": "stdout",
     "output_type": "stream",
     "text": [
      "epoch      trn_loss   val_loss   accuracy                                                                           \n",
      "    0      0.409448   0.237868   0.898     \n",
      "    1      0.336095   0.224038   0.9                                                                                \n",
      "    2      0.297716   0.225738   0.903                                                                              \n",
      "    3      0.28754    0.218264   0.9005                                                                             \n",
      "    4      0.275963   0.233699   0.9005                                                                             \n",
      "    5      0.265997   0.21536    0.9055                                                                             \n",
      "    6      0.25896    0.217302   0.904                                                                              \n",
      "Wall time: 6min 41s\n",
      "Dropout Rate: 0.9\n"
     ]
    },
    {
     "data": {
      "application/vnd.jupyter.widget-view+json": {
       "model_id": "528b487da6ff451e99b56fbcf6054c72",
       "version_major": 2,
       "version_minor": 0
      },
      "text/plain": [
       "HBox(children=(IntProgress(value=0, description='Epoch', max=7), HTML(value='')))"
      ]
     },
     "metadata": {},
     "output_type": "display_data"
    },
    {
     "name": "stdout",
     "output_type": "stream",
     "text": [
      "epoch      trn_loss   val_loss   accuracy                                                                           \n",
      "    0      0.643262   0.251027   0.892     \n",
      "    1      0.514817   0.242757   0.8975                                                                             \n",
      "    2      0.407519   0.246788   0.89                                                                               \n",
      "    3      0.395401   0.24441    0.891                                                                              \n",
      "    4      0.373275   0.237093   0.8915                                                                             \n",
      "    5      0.338504   0.232159   0.8995                                                                             \n",
      "    6      0.316478   0.232081   0.8965                                                                             \n",
      "Wall time: 6min 43s\n"
     ]
    }
   ],
   "source": [
    "#loop through all entries in the dropouts array\n",
    "for dropout in dropouts:\n",
    "    learn = ConvLearner.pretrained(arch, data, precompute=False, ps=dropout)\n",
    "    \n",
    "    print('Dropout Rate:',dropout)\n",
    "    # Make sure we have enough cycles and due to dropout variability, let's make sure we are mixing things up a bit\n",
    "    %time fit_array = learn.fit(learnrate, 3, cycle_len=1, cycle_mult=2)\n",
    "    \n",
    "    # learn.fit actually returns an array that looks like this: [[0.1983260258436203],0.9185000009536743]\n",
    "    # it includes that last val_loss and accuracy values\n",
    "    accuracy = fit_array[1]\n",
    "    loss = fit_array[0][0]\n",
    "    # add them to our arrays for charting later\n",
    "    acc.append(accuracy)\n",
    "    los.append(loss)"
   ]
  },
  {
   "cell_type": "markdown",
   "metadata": {},
   "source": [
    "Looking at the *trn_loss* vs *val_loss* you can see it going from overfitting to underfitting. But if you went just by those values, you would be choosing a dropout rate of 0.3-0.5 which, as we'll see, isn't actually the best for our data set.\n",
    "\n",
    "### Now that we have our results we print out the arrays so we don't have to rerun the entire notebook just to play with the charting"
   ]
  },
  {
   "cell_type": "code",
   "execution_count": 13,
   "metadata": {},
   "outputs": [
    {
     "name": "stdout",
     "output_type": "stream",
     "text": [
      "[0.0, 0.1, 0.2, 0.3, 0.4, 0.5, 0.6, 0.7, 0.8, 0.9]\n",
      "[0.9185000009536743, 0.9180000066757202, 0.9220000066757202, 0.9114999952316284, 0.9139999985694885, 0.9124999980926514, 0.907499997138977, 0.9019999947547913, 0.903999997138977, 0.8964999933242798]\n",
      "[0.1983260258436203, 0.19329571437835694, 0.19230403864383697, 0.1986690136194229, 0.19804472887516023, 0.20221455514431, 0.20338530087471007, 0.209022167801857, 0.21730239295959472, 0.23208116745948792]\n"
     ]
    }
   ],
   "source": [
    "print(dropouts)\n",
    "print(acc)\n",
    "print(los)"
   ]
  },
  {
   "cell_type": "markdown",
   "metadata": {},
   "source": [
    "Oh look, a convenient place to enter those arrays..."
   ]
  },
  {
   "cell_type": "code",
   "execution_count": 14,
   "metadata": {},
   "outputs": [],
   "source": [
    "#cheatsheet of results\n",
    "#acc = [0.9185000009536743, 0.9180000066757202, 0.9220000066757202, 0.9114999952316284, 0.9139999985694885, 0.9124999980926514, 0.907499997138977, 0.9019999947547913, 0.903999997138977, 0.8964999933242798]\n",
    "#los = [0.1983260258436203, 0.19329571437835694, 0.19230403864383697, 0.1986690136194229, 0.19804472887516023, 0.20221455514431, 0.20338530087471007, 0.209022167801857, 0.21730239295959472, 0.23208116745948792]"
   ]
  },
  {
   "cell_type": "markdown",
   "metadata": {},
   "source": [
    "## Interpreting Results"
   ]
  },
  {
   "cell_type": "code",
   "execution_count": 17,
   "metadata": {},
   "outputs": [
    {
     "data": {
      "image/png": "[encoded data removed]",
      "text/plain": [
       "<Figure size 720x432 with 1 Axes>"
      ]
     },
     "metadata": {},
     "output_type": "display_data"
    }
   ],
   "source": [
    "width = 0.05 # bar width\n",
    "# Get current size\n",
    "fig_size = plt.rcParams[\"figure.figsize\"]\n",
    "# Set new size (0=width,1=height)\n",
    "fig_size[0] = 10\n",
    "fig_size[1] = 6\n",
    "plt.rcParams[\"figure.figsize\"] = fig_size\n",
    "\n",
    "plt.bar(dropouts, acc, width, align='center')\n",
    "\n",
    "plt.tick_params(axis='x', which='major', labelsize=10)\n",
    "plt.tick_params(axis='y', which='major', labelsize=15)\n",
    "\n",
    "xrange = np.arange(0,1,.1)\n",
    "plt.xticks(xrange, dropouts)\n",
    "plt.ylim(.85,.95)\n",
    "\n",
    "plt.xlabel('Dropout', size = 20)\n",
    "plt.ylabel('Accuracy',size = 20)\n",
    "\n",
    "plt.show()"
   ]
  },
  {
   "cell_type": "markdown",
   "metadata": {},
   "source": [
    "_**Note:** Larger is better._\n",
    "\n",
    "While accuracy doesn't vary greatly (2%), machine learning is all about small gains. A lot of small gains from hyperparameters add up to a really reliable model, not to mention a big difference in a Kaggle competition. \n",
    "\n",
    "Since we used **small images** for this run, we get clearer results from the **Accuracy** chart. The strongest case is 0.2 dropout rate with larger rates causing worse results."
   ]
  },
  {
   "cell_type": "code",
   "execution_count": 16,
   "metadata": {},
   "outputs": [
    {
     "data": {
      "image/png": "[encoded data removed]",
      "text/plain": [
       "<Figure size 720x432 with 1 Axes>"
      ]
     },
     "metadata": {},
     "output_type": "display_data"
    }
   ],
   "source": [
    "plt.bar(dropouts, los, width, align='center')\n",
    "\n",
    "plt.tick_params(axis='x', which='major', labelsize=10)\n",
    "plt.tick_params(axis='y', which='major', labelsize=15)\n",
    "\n",
    "xrange = np.arange(0,1,.1)\n",
    "plt.xticks(xrange, dropouts)\n",
    "#plt.gca().invert_yaxis()\n",
    "\n",
    "plt.xlabel('Dropout', size = 20)\n",
    "plt.ylabel('Loss',size = 20)\n",
    "\n",
    "plt.show()"
   ]
  },
  {
   "cell_type": "markdown",
   "metadata": {},
   "source": [
    "_**Note:** Smaller is better._\n",
    "\n",
    "Since we used small images for this run, we get really tight results from the Loss chart. Loss charts are more useful with **larger images**, but since they take longer and will typically lead you to the same conclusion (0.2 dropout rate in this data set), faster is better by using Accuracy and small images."
   ]
  }
 ],
 "metadata": {
  "kernelspec": {
   "display_name": "Python 3",
   "language": "python",
   "name": "python3"
  },
  "language_info": {
   "codemirror_mode": {
    "name": "ipython",
    "version": 3
   },
   "file_extension": ".py",
   "mimetype": "text/x-python",
   "name": "python",
   "nbconvert_exporter": "python",
   "pygments_lexer": "ipython3",
   "version": "3.6.5"
  }
 },
 "nbformat": 4,
 "nbformat_minor": 2
}
